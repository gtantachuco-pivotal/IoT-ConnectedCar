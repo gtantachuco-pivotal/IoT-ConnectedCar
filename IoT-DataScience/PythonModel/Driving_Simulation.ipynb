{
 "metadata": {
  "name": "",
  "signature": "sha256:757d1f7ce6822cd73535c02cebbf8e0d83d706e016933148e4b71b110d8422d3"
 },
 "nbformat": 3,
 "nbformat_minor": 0,
 "worksheets": [
  {
   "cells": [
    {
     "cell_type": "code",
     "collapsed": false,
     "input": [
      "import Models\n",
      "import Data\n",
      "import ConfigParser\n",
      "import sys\n",
      "import pika\n",
      "import json\n",
      "import numpy as np\n",
      "\n",
      "from IPython.core import display"
     ],
     "language": "python",
     "metadata": {},
     "outputs": [],
     "prompt_number": 1
    },
    {
     "cell_type": "code",
     "collapsed": false,
     "input": [
      "%%html\n",
      "\n",
      "<link rel=\"stylesheet\" href=\"http://cdn.leafletjs.com/leaflet-0.7.2/leaflet.css\" />\n",
      "<script src=\"http://cdn.leafletjs.com/leaflet-0.7.2/leaflet.js\"></script>\n",
      "<script src=\"https://wrobstory.github.io/leaflet-dvf/leaflet-dvf.markers.min.js\"></script>\n",
      "\n",
      "<style>\n",
      "  #map {\n",
      "    position:absolute;\n",
      "    top:0;\n",
      "    bottom:0;\n",
      "    right:0;\n",
      "    left:0;\n",
      "  }\n",
      "</style>\n",
      "\n",
      "<div id=\"driving_map\" class=\"folium-map\" style=\"width: 960px; height: 500px\"/>"
     ],
     "language": "python",
     "metadata": {},
     "outputs": [
      {
       "html": [
        "\n",
        "<link rel=\"stylesheet\" href=\"http://cdn.leafletjs.com/leaflet-0.7.2/leaflet.css\" />\n",
        "<script src=\"http://cdn.leafletjs.com/leaflet-0.7.2/leaflet.js\"></script>\n",
        "<script src=\"https://wrobstory.github.io/leaflet-dvf/leaflet-dvf.markers.min.js\"></script>\n",
        "\n",
        "<style>\n",
        "  #map {\n",
        "    position:absolute;\n",
        "    top:0;\n",
        "    bottom:0;\n",
        "    right:0;\n",
        "    left:0;\n",
        "  }\n",
        "</style>\n",
        "\n",
        "<div id=\"driving_map\" class=\"folium-map\" style=\"width: 960px; height: 500px\"/>"
       ],
       "metadata": {},
       "output_type": "display_data",
       "text": [
        "<IPython.core.display.HTML at 0x1043af950>"
       ]
      }
     ],
     "prompt_number": 2
    },
    {
     "cell_type": "code",
     "collapsed": false,
     "input": [
      "%%html\n",
      "\n",
      "<script type=\"text/Javascript\">\n",
      "    var map = L.map('driving_map').setView([52.52, 13.398], 11);\n",
      "\n",
      "    L.tileLayer('http://{s}.www.toolserver.org/tiles/bw-mapnik/{z}/{x}/{y}.png', {\n",
      "        maxZoom: 18,\n",
      "        attribution: 'OpenStreetMap Black&White'\n",
      "    }).addTo(map);\n",
      "    \n",
      "    var polygon_1 = new L.Marker([0, 0]);\n",
      "    \n",
      "    var initGoal_1 = new L.Circle([0, 0]);    \n",
      "</script>"
     ],
     "language": "python",
     "metadata": {},
     "outputs": [
      {
       "html": [
        "\n",
        "<script type=\"text/Javascript\">\n",
        "    var map = L.map('driving_map').setView([52.52, 13.398], 11);\n",
        "\n",
        "    L.tileLayer('http://{s}.www.toolserver.org/tiles/bw-mapnik/{z}/{x}/{y}.png', {\n",
        "        maxZoom: 18,\n",
        "        attribution: 'OpenStreetMap Black&White'\n",
        "    }).addTo(map);\n",
        "    \n",
        "    var polygon_1 = new L.Marker([0, 0]);\n",
        "    \n",
        "    var initGoal_1 = new L.Circle([0, 0]);    \n",
        "</script>"
       ],
       "metadata": {},
       "output_type": "display_data",
       "text": [
        "<IPython.core.display.HTML at 0x10468f490>"
       ]
      }
     ],
     "prompt_number": 3
    },
    {
     "cell_type": "code",
     "collapsed": false,
     "input": [
      "ConfigurationString='Configuration/default.conf'\n",
      "\n",
      "# Set Job Params\n",
      "Config = ConfigParser.ConfigParser()\n",
      "Config.read(ConfigurationString)\n",
      "\n",
      "storedmodel_directory = Config.get(\"Directories\", \"dir_storedmodel\")\n",
      "Host = Config.get(\"Streaming\", \"host\")\n",
      "Receiver_Queue = Config.get(\"Streaming\", \"receiver_queue\")\n",
      "Emitter_Queue = Config.get(\"Streaming\", \"emitter_queue\")\n",
      "\n",
      "# TODO: READ THESE PARAMETERS FROM SOMEWHERE\n",
      "InitClassFile = 'InitClass_RF'\n",
      "OnlineClassFile = 'OnlineClass_RF'\n",
      "JourneyClusterFile = 'KMeans_JourneyClusters'\n",
      "MixingLength = 500.0\n",
      "\n",
      "# Load models\n",
      "InitClassModel = Models.Model.load(storedmodel_directory + InitClassFile)\n",
      "OnlineClassModel = Models.Model.load(storedmodel_directory + OnlineClassFile)\n",
      "\n",
      "# Load information from historical data\n",
      "HistoricalJourneyClusters = Data.JourneyCluster.load(storedmodel_directory + JourneyClusterFile)\n",
      "\n",
      "EndLocations = [journeyCluster.averages[['EndLat','EndLong']].values.tolist() for\n",
      "                journeyCluster in HistoricalJourneyClusters if journeyCluster.clusterID != -1]\n",
      "\n",
      "MPG_insts = [journeyCluster.averages['MPG_inst'] if 'MPG_inst' in journeyCluster.averages.keys() else float('NaN') for\n",
      "             journeyCluster in HistoricalJourneyClusters if journeyCluster.clusterID != -1]\n",
      "\n",
      "clusterIDs = [str(journeyCluster.clusterID) for journeyCluster in HistoricalJourneyClusters if journeyCluster.clusterID != -1]\n",
      "\n",
      "# Create Data Object\n",
      "journey = Data.Journey('csv')\n",
      "\n",
      "print 'defining callbacks...'\n",
      "firstCallback = True\n",
      "InitPrediction = None\n",
      "\n",
      "# Set up connection\n",
      "connection = pika.BlockingConnection(pika.ConnectionParameters(host=Host))\n",
      "channel = connection.channel()\n",
      "\n",
      "print 'declaring queues...'\n",
      "channel.queue_declare(queue=Receiver_Queue)\n",
      "channel.queue_declare(queue=Emitter_Queue)\n",
      "\n",
      "def callback(ch, method, properties, body):\n",
      "    ########################\n",
      "    ########################\n",
      "    global display\n",
      "    ########################\n",
      "    ########################\n",
      "    \n",
      "    journey.LoadStreamingData(body)\n",
      "    output = json.loads(body)\n",
      "\n",
      "    # create initial prediction:\n",
      "    if len(journey.data.index) == 1:\n",
      "        InitClassModel.predict(journey)\n",
      "\n",
      "    # create online prediction:\n",
      "    OnlineClassModel.predict(journey)\n",
      "\n",
      "    # mix initial and online prediction\n",
      "    MixingFactor = len(journey.data.index)/MixingLength\n",
      "    probabilities = (1 - MixingFactor) * InitClassModel.prediction + MixingFactor * OnlineClassModel.prediction\n",
      "\n",
      "    # calculate remaining range\n",
      "    MPG = np.nansum(probabilities * MPG_insts)\n",
      "    RemainingRange = (np.array(journey.data.FuelRemaining.tail(1), dtype='float64') * MPG)[0]\n",
      "\n",
      "    # create cluster information\n",
      "    container = zip(clusterIDs, probabilities[0], EndLocations)\n",
      "    ClusterPredictions = dict()\n",
      "    for jid, prob, endloc in container:\n",
      "        ClusterPredictions[jid] = {'Probability': prob, 'EndLocation': endloc}\n",
      "\n",
      "    # put together final dict\n",
      "    predictions = dict()\n",
      "    predictions['ClusterPredictions'] = ClusterPredictions\n",
      "    predictions['RemainingRange'] = RemainingRange\n",
      "\n",
      "    output['Predictions'] = predictions\n",
      "\n",
      "    # publish to RabbitMQ stream\n",
      "    channel.basic_publish(exchange='', routing_key=Emitter_Queue,\n",
      "                          body=json.dumps(output))\n",
      "    \n",
      "    #######################\n",
      "    #######################\n",
      "    print np.max(InitClassModel.prediction)\n",
      "    el = EndLocations[np.argmax(InitClassModel.prediction)]\n",
      "    \n",
      "    print el[0]\n",
      "    print el[1]\n",
      "                 \n",
      "    \n",
      "    display.display(display.Javascript(\"\"\"\n",
      "        //console.log('\"\"\" + str(output[u' Latitude']) + \"\"\"');\n",
      "        //console.log('\"\"\" + str(output[u' Longitude']) + \"\"\"');\n",
      "        //console.log('\"\"\" + str(el[0]) + \"\"\"');\n",
      "        //console.log('\"\"\" + str(el[1]) + \"\"\"');\n",
      "        \n",
      "        var llobj1 = new L.latLng('\"\"\" + str(output[u' Latitude']) + \"\"\"', '\"\"\" + str(output[u' Longitude']) + \"\"\"');\n",
      "        polygon_1.setLatLng(llobj1);\n",
      "        map.addLayer(polygon_1);\n",
      "        \n",
      "        var llobj2 = new L.latLng('\"\"\" + str(el[0]) + \"\"\"', '\"\"\" + str(el[1]) + \"\"\"');\n",
      "        initGoal_1.setLatLng(llobj2);\n",
      "        //map.addLayer(initGoal_1);\n",
      "    \"\"\"))\n",
      "    #######################\n",
      "    #######################\n",
      "\n",
      "\n",
      "    # this is how we will calculate range\n",
      "\n",
      "    # Predict fuel consumption rate for that journey\n",
      "    # PredictedKmPerL = Model.Predict(data_journey)\n",
      "    # EngineCapacity = 380 #Need to think of a way to automate this\n",
      "    # CurrentFuelRemaining = 0.01*data_raw.data.FuelRemaining*EngineCapacity\n",
      "    # RemainingRange = CurrentFuelRemaining * PredictedKmPerL\n",
      "    # print InitClassModel.predict(data_journey)\n",
      "    # print \"Predicted range = \" + str(RemainingRange[0]) + \"km\"\n",
      "\n",
      "channel.basic_consume(callback, queue=Receiver_Queue, no_ack=True)\n",
      "\n",
      "print 'Everything set up'\n",
      "\n",
      "channel.start_consuming()"
     ],
     "language": "python",
     "metadata": {},
     "outputs": [
      {
       "output_type": "stream",
       "stream": "stderr",
       "text": [
        "WARNING:pika.adapters.base_connection:Connection to ::1:5672 failed: [Errno 61] Connection refused\n"
       ]
      },
      {
       "output_type": "stream",
       "stream": "stderr",
       "text": [
        "WARNING:pika.adapters.base_connection:Connection to ::1:5672 failed: [Errno 61] Connection refused\n"
       ]
      },
      {
       "output_type": "stream",
       "stream": "stderr",
       "text": [
        "WARNING:pika.adapters.base_connection:Connection to 127.0.0.1:5672 failed: [Errno 61] Connection refused\n"
       ]
      },
      {
       "output_type": "stream",
       "stream": "stderr",
       "text": [
        "WARNING:pika.adapters.base_connection:Connection to 127.0.0.1:5672 failed: [Errno 61] Connection refused\n"
       ]
      },
      {
       "output_type": "stream",
       "stream": "stderr",
       "text": [
        "WARNING:pika.adapters.base_connection:Connection to fe80::1%lo0:5672 failed: [Errno 61] Connection refused\n"
       ]
      },
      {
       "output_type": "stream",
       "stream": "stderr",
       "text": [
        "WARNING:pika.adapters.base_connection:Connection to fe80::1%lo0:5672 failed: [Errno 61] Connection refused\n"
       ]
      },
      {
       "output_type": "stream",
       "stream": "stdout",
       "text": [
        "defining callbacks...\n"
       ]
      },
      {
       "ename": "AMQPConnectionError",
       "evalue": "Connection to fe80::1%lo0:5672 failed: [Errno 61] Connection refused",
       "output_type": "pyerr",
       "traceback": [
        "\u001b[0;31m---------------------------------------------------------------------------\u001b[0m\n\u001b[0;31mAMQPConnectionError\u001b[0m                       Traceback (most recent call last)",
        "\u001b[0;32m<ipython-input-5-2823b80ed47f>\u001b[0m in \u001b[0;36m<module>\u001b[0;34m()\u001b[0m\n\u001b[1;32m     39\u001b[0m \u001b[0;34m\u001b[0m\u001b[0m\n\u001b[1;32m     40\u001b[0m \u001b[0;31m# Set up connection\u001b[0m\u001b[0;34m\u001b[0m\u001b[0;34m\u001b[0m\u001b[0m\n\u001b[0;32m---> 41\u001b[0;31m \u001b[0mconnection\u001b[0m \u001b[0;34m=\u001b[0m \u001b[0mpika\u001b[0m\u001b[0;34m.\u001b[0m\u001b[0mBlockingConnection\u001b[0m\u001b[0;34m(\u001b[0m\u001b[0mpika\u001b[0m\u001b[0;34m.\u001b[0m\u001b[0mConnectionParameters\u001b[0m\u001b[0;34m(\u001b[0m\u001b[0mhost\u001b[0m\u001b[0;34m=\u001b[0m\u001b[0mHost\u001b[0m\u001b[0;34m)\u001b[0m\u001b[0;34m)\u001b[0m\u001b[0;34m\u001b[0m\u001b[0m\n\u001b[0m\u001b[1;32m     42\u001b[0m \u001b[0mchannel\u001b[0m \u001b[0;34m=\u001b[0m \u001b[0mconnection\u001b[0m\u001b[0;34m.\u001b[0m\u001b[0mchannel\u001b[0m\u001b[0;34m(\u001b[0m\u001b[0;34m)\u001b[0m\u001b[0;34m\u001b[0m\u001b[0m\n\u001b[1;32m     43\u001b[0m \u001b[0;34m\u001b[0m\u001b[0m\n",
        "\u001b[0;32m/Users/alex/anaconda/lib/python2.7/site-packages/pika/adapters/blocking_connection.pyc\u001b[0m in \u001b[0;36m__init__\u001b[0;34m(self, parameters)\u001b[0m\n\u001b[1;32m    128\u001b[0m \u001b[0;34m\u001b[0m\u001b[0m\n\u001b[1;32m    129\u001b[0m         \"\"\"\n\u001b[0;32m--> 130\u001b[0;31m         \u001b[0msuper\u001b[0m\u001b[0;34m(\u001b[0m\u001b[0mBlockingConnection\u001b[0m\u001b[0;34m,\u001b[0m \u001b[0mself\u001b[0m\u001b[0;34m)\u001b[0m\u001b[0;34m.\u001b[0m\u001b[0m__init__\u001b[0m\u001b[0;34m(\u001b[0m\u001b[0mparameters\u001b[0m\u001b[0;34m,\u001b[0m \u001b[0mNone\u001b[0m\u001b[0;34m,\u001b[0m \u001b[0mFalse\u001b[0m\u001b[0;34m)\u001b[0m\u001b[0;34m\u001b[0m\u001b[0m\n\u001b[0m\u001b[1;32m    131\u001b[0m \u001b[0;34m\u001b[0m\u001b[0m\n\u001b[1;32m    132\u001b[0m     \u001b[0;32mdef\u001b[0m \u001b[0madd_on_close_callback\u001b[0m\u001b[0;34m(\u001b[0m\u001b[0mself\u001b[0m\u001b[0;34m,\u001b[0m \u001b[0mcallback_method_unused\u001b[0m\u001b[0;34m)\u001b[0m\u001b[0;34m:\u001b[0m\u001b[0;34m\u001b[0m\u001b[0m\n",
        "\u001b[0;32m/Users/alex/anaconda/lib/python2.7/site-packages/pika/adapters/base_connection.pyc\u001b[0m in \u001b[0;36m__init__\u001b[0;34m(self, parameters, on_open_callback, on_open_error_callback, on_close_callback, ioloop, stop_ioloop_on_close)\u001b[0m\n\u001b[1;32m     70\u001b[0m                                              \u001b[0mon_open_callback\u001b[0m\u001b[0;34m,\u001b[0m\u001b[0;34m\u001b[0m\u001b[0m\n\u001b[1;32m     71\u001b[0m                                              \u001b[0mon_open_error_callback\u001b[0m\u001b[0;34m,\u001b[0m\u001b[0;34m\u001b[0m\u001b[0m\n\u001b[0;32m---> 72\u001b[0;31m                                              on_close_callback)\n\u001b[0m\u001b[1;32m     73\u001b[0m \u001b[0;34m\u001b[0m\u001b[0m\n\u001b[1;32m     74\u001b[0m     \u001b[0;32mdef\u001b[0m \u001b[0madd_timeout\u001b[0m\u001b[0;34m(\u001b[0m\u001b[0mself\u001b[0m\u001b[0;34m,\u001b[0m \u001b[0mdeadline\u001b[0m\u001b[0;34m,\u001b[0m \u001b[0mcallback_method\u001b[0m\u001b[0;34m)\u001b[0m\u001b[0;34m:\u001b[0m\u001b[0;34m\u001b[0m\u001b[0m\n",
        "\u001b[0;32m/Users/alex/anaconda/lib/python2.7/site-packages/pika/connection.pyc\u001b[0m in \u001b[0;36m__init__\u001b[0;34m(self, parameters, on_open_callback, on_open_error_callback, on_close_callback)\u001b[0m\n\u001b[1;32m    598\u001b[0m         \u001b[0;31m# Initialize the connection state and connect\u001b[0m\u001b[0;34m\u001b[0m\u001b[0;34m\u001b[0m\u001b[0m\n\u001b[1;32m    599\u001b[0m         \u001b[0mself\u001b[0m\u001b[0;34m.\u001b[0m\u001b[0m_init_connection_state\u001b[0m\u001b[0;34m(\u001b[0m\u001b[0;34m)\u001b[0m\u001b[0;34m\u001b[0m\u001b[0m\n\u001b[0;32m--> 600\u001b[0;31m         \u001b[0mself\u001b[0m\u001b[0;34m.\u001b[0m\u001b[0mconnect\u001b[0m\u001b[0;34m(\u001b[0m\u001b[0;34m)\u001b[0m\u001b[0;34m\u001b[0m\u001b[0m\n\u001b[0m\u001b[1;32m    601\u001b[0m \u001b[0;34m\u001b[0m\u001b[0m\n\u001b[1;32m    602\u001b[0m     \u001b[0;32mdef\u001b[0m \u001b[0madd_backpressure_callback\u001b[0m\u001b[0;34m(\u001b[0m\u001b[0mself\u001b[0m\u001b[0;34m,\u001b[0m \u001b[0mcallback_method\u001b[0m\u001b[0;34m)\u001b[0m\u001b[0;34m:\u001b[0m\u001b[0;34m\u001b[0m\u001b[0m\n",
        "\u001b[0;32m/Users/alex/anaconda/lib/python2.7/site-packages/pika/adapters/blocking_connection.pyc\u001b[0m in \u001b[0;36mconnect\u001b[0;34m(self)\u001b[0m\n\u001b[1;32m    228\u001b[0m         \"\"\"\n\u001b[1;32m    229\u001b[0m         \u001b[0mself\u001b[0m\u001b[0;34m.\u001b[0m\u001b[0m_set_connection_state\u001b[0m\u001b[0;34m(\u001b[0m\u001b[0mself\u001b[0m\u001b[0;34m.\u001b[0m\u001b[0mCONNECTION_INIT\u001b[0m\u001b[0;34m)\u001b[0m\u001b[0;34m\u001b[0m\u001b[0m\n\u001b[0;32m--> 230\u001b[0;31m         \u001b[0merror\u001b[0m \u001b[0;34m=\u001b[0m \u001b[0mself\u001b[0m\u001b[0;34m.\u001b[0m\u001b[0m_adapter_connect\u001b[0m\u001b[0;34m(\u001b[0m\u001b[0;34m)\u001b[0m\u001b[0;34m\u001b[0m\u001b[0m\n\u001b[0m\u001b[1;32m    231\u001b[0m         \u001b[0;32mif\u001b[0m \u001b[0merror\u001b[0m\u001b[0;34m:\u001b[0m\u001b[0;34m\u001b[0m\u001b[0m\n\u001b[1;32m    232\u001b[0m             \u001b[0;32mraise\u001b[0m \u001b[0mexceptions\u001b[0m\u001b[0;34m.\u001b[0m\u001b[0mAMQPConnectionError\u001b[0m\u001b[0;34m(\u001b[0m\u001b[0merror\u001b[0m\u001b[0;34m)\u001b[0m\u001b[0;34m\u001b[0m\u001b[0m\n",
        "\u001b[0;32m/Users/alex/anaconda/lib/python2.7/site-packages/pika/adapters/blocking_connection.pyc\u001b[0m in \u001b[0;36m_adapter_connect\u001b[0;34m(self)\u001b[0m\n\u001b[1;32m    299\u001b[0m         \u001b[0merror\u001b[0m \u001b[0;34m=\u001b[0m \u001b[0msuper\u001b[0m\u001b[0;34m(\u001b[0m\u001b[0mBlockingConnection\u001b[0m\u001b[0;34m,\u001b[0m \u001b[0mself\u001b[0m\u001b[0;34m)\u001b[0m\u001b[0;34m.\u001b[0m\u001b[0m_adapter_connect\u001b[0m\u001b[0;34m(\u001b[0m\u001b[0;34m)\u001b[0m\u001b[0;34m\u001b[0m\u001b[0m\n\u001b[1;32m    300\u001b[0m         \u001b[0;32mif\u001b[0m \u001b[0merror\u001b[0m\u001b[0;34m:\u001b[0m\u001b[0;34m\u001b[0m\u001b[0m\n\u001b[0;32m--> 301\u001b[0;31m             \u001b[0;32mraise\u001b[0m \u001b[0mexceptions\u001b[0m\u001b[0;34m.\u001b[0m\u001b[0mAMQPConnectionError\u001b[0m\u001b[0;34m(\u001b[0m\u001b[0merror\u001b[0m\u001b[0;34m)\u001b[0m\u001b[0;34m\u001b[0m\u001b[0m\n\u001b[0m\u001b[1;32m    302\u001b[0m         \u001b[0mself\u001b[0m\u001b[0;34m.\u001b[0m\u001b[0msocket\u001b[0m\u001b[0;34m.\u001b[0m\u001b[0msettimeout\u001b[0m\u001b[0;34m(\u001b[0m\u001b[0mself\u001b[0m\u001b[0;34m.\u001b[0m\u001b[0mSOCKET_CONNECT_TIMEOUT\u001b[0m\u001b[0;34m)\u001b[0m\u001b[0;34m\u001b[0m\u001b[0m\n\u001b[1;32m    303\u001b[0m         \u001b[0mself\u001b[0m\u001b[0;34m.\u001b[0m\u001b[0m_frames_written_without_read\u001b[0m \u001b[0;34m=\u001b[0m \u001b[0;36m0\u001b[0m\u001b[0;34m\u001b[0m\u001b[0m\n",
        "\u001b[0;31mAMQPConnectionError\u001b[0m: Connection to fe80::1%lo0:5672 failed: [Errno 61] Connection refused"
       ]
      }
     ],
     "prompt_number": 5
    },
    {
     "cell_type": "code",
     "collapsed": false,
     "input": [],
     "language": "python",
     "metadata": {},
     "outputs": []
    }
   ],
   "metadata": {}
  }
 ]
}